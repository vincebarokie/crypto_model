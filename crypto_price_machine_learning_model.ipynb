{
  "nbformat": 4,
  "nbformat_minor": 0,
  "metadata": {
    "colab": {
      "name": "crypto_price_machine_learning_model.ipynb",
      "provenance": [],
      "collapsed_sections": [],
      "authorship_tag": "ABX9TyOaM4MhPOkr+AMyZ7gEuRBD",
      "include_colab_link": true
    },
    "kernelspec": {
      "name": "python3",
      "display_name": "Python 3"
    },
    "language_info": {
      "name": "python"
    }
  },
  "cells": [
    {
      "cell_type": "markdown",
      "metadata": {
        "id": "view-in-github",
        "colab_type": "text"
      },
      "source": [
        "<a href=\"https://colab.research.google.com/github/vincebarokie/crypto_model/blob/main/crypto_price_machine_learning_model.ipynb\" target=\"_parent\"><img src=\"https://colab.research.google.com/assets/colab-badge.svg\" alt=\"Open In Colab\"/></a>"
      ]
    },
    {
      "cell_type": "markdown",
      "source": [
        "# Project - Crypto Price Machine Learning Model\n",
        "\n",
        "Submitted By: Raymund Vincent Ricabar\n",
        "\n",
        "**Dataset** is found [here](https://www.kaggle.com/datasets/kaushiksuresh147/top-10-cryptocurrencies-historical-dataset)\n",
        "\n",
        "This dataset was extracted using web scraping and various python packages like investpy, yahoo finance, pandas data reader.\n",
        "\n",
        "**TODOS**\n",
        "\n",
        "- [x] EDA on trending & potential of the Celo (can by any cryptocurrency)\n",
        "- [ ] Predict prices (close) of Celo (can be any cryptocurrency) \n",
        "- [ ] Plot true value and predicted value over time\n",
        "\n",
        "|No |\tColumns\t| Descriptions |\n",
        "|:--|---------|--------------:|\n",
        "|1\t|Date\t|Date of the crypto prices|\n",
        "|2\t|Close\t|Closing prices of crypto(dollars)|\n",
        "|3\t|Open\t|Opening price of crypto on the respective date(Dollars)|\n",
        "|4\t|High\t|Highest price of crypto on the respective date(Dollars)|\n",
        "|5\t|Low\t|Lowest price of crypto on the respective date(Dollars)|\n",
        "|6\t|Vol.\t|Volume of crypto on the respective date(Dollars)|"
      ],
      "metadata": {
        "id": "vmwYkfbB0W6_"
      }
    },
    {
      "cell_type": "markdown",
      "source": [
        "## Data Cleaning\n",
        "\n",
        "We will be setting our imports, loading our dataset and perform some initial data exploration in this section."
      ],
      "metadata": {
        "id": "6al-8Pv5SduE"
      }
    },
    {
      "cell_type": "code",
      "source": [
        "!pip install -U kaleido"
      ],
      "metadata": {
        "colab": {
          "base_uri": "https://localhost:8080/"
        },
        "id": "yWMkRiftd8tP",
        "outputId": "fd53760b-23a7-4cf8-fe59-4d56fc3dfdad"
      },
      "execution_count": 1,
      "outputs": [
        {
          "output_type": "stream",
          "name": "stdout",
          "text": [
            "Looking in indexes: https://pypi.org/simple, https://us-python.pkg.dev/colab-wheels/public/simple/\n",
            "Requirement already satisfied: kaleido in /usr/local/lib/python3.7/dist-packages (0.2.1)\n"
          ]
        }
      ]
    },
    {
      "cell_type": "code",
      "source": [
        "# imports\n",
        "import pandas as pd\n",
        "import numpy as np\n",
        "# config pandas \n",
        "pd.options.display.float_format = '{:.5f}'.format\n",
        "\n",
        "# visualization\n",
        "import matplotlib.pyplot as plt\n",
        "import seaborn as sns\n",
        "import plotly.graph_objects as go\n",
        "from plotly.subplots import make_subplots\n",
        "\n",
        "# import sklearn libraries\n",
        "from sklearn.model_selection import train_test_split, GridSearchCV\n",
        "from sklearn.pipeline import make_pipeline, Pipeline\n",
        "from sklearn.preprocessing import OneHotEncoder, StandardScaler\n",
        "from sklearn.compose import make_column_selector, ColumnTransformer\n",
        "from sklearn.cluster import KMeans\n",
        "from sklearn.metrics import silhouette_score\n",
        "\n",
        "# mount drive\n",
        "from google.colab import drive\n",
        "drive.mount('/content/drive')"
      ],
      "metadata": {
        "colab": {
          "base_uri": "https://localhost:8080/"
        },
        "id": "HwrS8TH_-gi2",
        "outputId": "3a1ca9d4-3ee1-4208-a221-d2df89df203e"
      },
      "execution_count": 2,
      "outputs": [
        {
          "output_type": "stream",
          "name": "stdout",
          "text": [
            "Drive already mounted at /content/drive; to attempt to forcibly remount, call drive.mount(\"/content/drive\", force_remount=True).\n"
          ]
        }
      ]
    },
    {
      "cell_type": "code",
      "source": [
        "# custom functions\n",
        "def plot_k_values(data, ks):\n",
        "  \"\"\"plot the silhouette score and inertia \n",
        "  of a KMeans model for various k values\"\"\"\n",
        "\n",
        "  sils = []\n",
        "  inertias = []\n",
        "\n",
        "  for k in ks:\n",
        "    km = KMeans(n_clusters=k)\n",
        "    km.fit(data)\n",
        "    sils.append(silhouette_score(data, km.labels_))\n",
        "    inertias.append(km.inertia_)\n",
        "      \n",
        "    # plot inertia and silhouette score\n",
        "  fig, ax1 = plt.subplots(figsize=(9,7))\n",
        "  ax1.set_xlabel('number of clusters')\n",
        "  ax1.set_ylabel('Inertia', color = 'blue')\n",
        "  ax1.plot(ks, inertias, color = 'blue',label='inertia',marker ='o')\n",
        "\n",
        "  ax2 = ax1.twinx()\n",
        "  \n",
        "  ax2.set_ylabel('Silhouette Score', color = 'red')\n",
        "  ax2.plot(ks, sils, color = 'red',label='silhouette score',marker='+')\n",
        "  ax1.legend(loc=0)  \n",
        "  ax2.legend(loc='upper left')\n",
        "  plt.grid()\n",
        "  plt.show()"
      ],
      "metadata": {
        "id": "_p8W-g7XGYDg"
      },
      "execution_count": 3,
      "outputs": []
    },
    {
      "cell_type": "code",
      "source": [
        "# load dataset\n",
        "df = pd.read_csv('/content/drive/MyDrive/CodingDojo_DS/dataset_files/Celo.csv')\n",
        "df.head()"
      ],
      "metadata": {
        "colab": {
          "base_uri": "https://localhost:8080/",
          "height": 206
        },
        "id": "EF8QqbMJBUTM",
        "outputId": "cdcd74e0-f1f8-4693-9e07-3dcc26d31128"
      },
      "execution_count": 4,
      "outputs": [
        {
          "output_type": "execute_result",
          "data": {
            "text/plain": [
              "         Date    Open    High     Low   Close   Volume Currency\n",
              "0  2020-05-22 0.82595 0.97836 0.79553 0.83266  2019357      USD\n",
              "1  2020-05-23 0.83277 2.51691 0.83277 2.49621  3645282      USD\n",
              "2  2020-05-24 2.43167 3.91659 1.47054 1.81345  3305900      USD\n",
              "3  2020-05-25 1.80970 1.93593 1.42681 1.43638  2211306      USD\n",
              "4  2020-05-26 1.43650 1.94548 1.42443 1.52262  2323976      USD"
            ],
            "text/html": [
              "\n",
              "  <div id=\"df-7fa8c057-2013-42c7-ae51-3cfb790d94a2\">\n",
              "    <div class=\"colab-df-container\">\n",
              "      <div>\n",
              "<style scoped>\n",
              "    .dataframe tbody tr th:only-of-type {\n",
              "        vertical-align: middle;\n",
              "    }\n",
              "\n",
              "    .dataframe tbody tr th {\n",
              "        vertical-align: top;\n",
              "    }\n",
              "\n",
              "    .dataframe thead th {\n",
              "        text-align: right;\n",
              "    }\n",
              "</style>\n",
              "<table border=\"1\" class=\"dataframe\">\n",
              "  <thead>\n",
              "    <tr style=\"text-align: right;\">\n",
              "      <th></th>\n",
              "      <th>Date</th>\n",
              "      <th>Open</th>\n",
              "      <th>High</th>\n",
              "      <th>Low</th>\n",
              "      <th>Close</th>\n",
              "      <th>Volume</th>\n",
              "      <th>Currency</th>\n",
              "    </tr>\n",
              "  </thead>\n",
              "  <tbody>\n",
              "    <tr>\n",
              "      <th>0</th>\n",
              "      <td>2020-05-22</td>\n",
              "      <td>0.82595</td>\n",
              "      <td>0.97836</td>\n",
              "      <td>0.79553</td>\n",
              "      <td>0.83266</td>\n",
              "      <td>2019357</td>\n",
              "      <td>USD</td>\n",
              "    </tr>\n",
              "    <tr>\n",
              "      <th>1</th>\n",
              "      <td>2020-05-23</td>\n",
              "      <td>0.83277</td>\n",
              "      <td>2.51691</td>\n",
              "      <td>0.83277</td>\n",
              "      <td>2.49621</td>\n",
              "      <td>3645282</td>\n",
              "      <td>USD</td>\n",
              "    </tr>\n",
              "    <tr>\n",
              "      <th>2</th>\n",
              "      <td>2020-05-24</td>\n",
              "      <td>2.43167</td>\n",
              "      <td>3.91659</td>\n",
              "      <td>1.47054</td>\n",
              "      <td>1.81345</td>\n",
              "      <td>3305900</td>\n",
              "      <td>USD</td>\n",
              "    </tr>\n",
              "    <tr>\n",
              "      <th>3</th>\n",
              "      <td>2020-05-25</td>\n",
              "      <td>1.80970</td>\n",
              "      <td>1.93593</td>\n",
              "      <td>1.42681</td>\n",
              "      <td>1.43638</td>\n",
              "      <td>2211306</td>\n",
              "      <td>USD</td>\n",
              "    </tr>\n",
              "    <tr>\n",
              "      <th>4</th>\n",
              "      <td>2020-05-26</td>\n",
              "      <td>1.43650</td>\n",
              "      <td>1.94548</td>\n",
              "      <td>1.42443</td>\n",
              "      <td>1.52262</td>\n",
              "      <td>2323976</td>\n",
              "      <td>USD</td>\n",
              "    </tr>\n",
              "  </tbody>\n",
              "</table>\n",
              "</div>\n",
              "      <button class=\"colab-df-convert\" onclick=\"convertToInteractive('df-7fa8c057-2013-42c7-ae51-3cfb790d94a2')\"\n",
              "              title=\"Convert this dataframe to an interactive table.\"\n",
              "              style=\"display:none;\">\n",
              "        \n",
              "  <svg xmlns=\"http://www.w3.org/2000/svg\" height=\"24px\"viewBox=\"0 0 24 24\"\n",
              "       width=\"24px\">\n",
              "    <path d=\"M0 0h24v24H0V0z\" fill=\"none\"/>\n",
              "    <path d=\"M18.56 5.44l.94 2.06.94-2.06 2.06-.94-2.06-.94-.94-2.06-.94 2.06-2.06.94zm-11 1L8.5 8.5l.94-2.06 2.06-.94-2.06-.94L8.5 2.5l-.94 2.06-2.06.94zm10 10l.94 2.06.94-2.06 2.06-.94-2.06-.94-.94-2.06-.94 2.06-2.06.94z\"/><path d=\"M17.41 7.96l-1.37-1.37c-.4-.4-.92-.59-1.43-.59-.52 0-1.04.2-1.43.59L10.3 9.45l-7.72 7.72c-.78.78-.78 2.05 0 2.83L4 21.41c.39.39.9.59 1.41.59.51 0 1.02-.2 1.41-.59l7.78-7.78 2.81-2.81c.8-.78.8-2.07 0-2.86zM5.41 20L4 18.59l7.72-7.72 1.47 1.35L5.41 20z\"/>\n",
              "  </svg>\n",
              "      </button>\n",
              "      \n",
              "  <style>\n",
              "    .colab-df-container {\n",
              "      display:flex;\n",
              "      flex-wrap:wrap;\n",
              "      gap: 12px;\n",
              "    }\n",
              "\n",
              "    .colab-df-convert {\n",
              "      background-color: #E8F0FE;\n",
              "      border: none;\n",
              "      border-radius: 50%;\n",
              "      cursor: pointer;\n",
              "      display: none;\n",
              "      fill: #1967D2;\n",
              "      height: 32px;\n",
              "      padding: 0 0 0 0;\n",
              "      width: 32px;\n",
              "    }\n",
              "\n",
              "    .colab-df-convert:hover {\n",
              "      background-color: #E2EBFA;\n",
              "      box-shadow: 0px 1px 2px rgba(60, 64, 67, 0.3), 0px 1px 3px 1px rgba(60, 64, 67, 0.15);\n",
              "      fill: #174EA6;\n",
              "    }\n",
              "\n",
              "    [theme=dark] .colab-df-convert {\n",
              "      background-color: #3B4455;\n",
              "      fill: #D2E3FC;\n",
              "    }\n",
              "\n",
              "    [theme=dark] .colab-df-convert:hover {\n",
              "      background-color: #434B5C;\n",
              "      box-shadow: 0px 1px 3px 1px rgba(0, 0, 0, 0.15);\n",
              "      filter: drop-shadow(0px 1px 2px rgba(0, 0, 0, 0.3));\n",
              "      fill: #FFFFFF;\n",
              "    }\n",
              "  </style>\n",
              "\n",
              "      <script>\n",
              "        const buttonEl =\n",
              "          document.querySelector('#df-7fa8c057-2013-42c7-ae51-3cfb790d94a2 button.colab-df-convert');\n",
              "        buttonEl.style.display =\n",
              "          google.colab.kernel.accessAllowed ? 'block' : 'none';\n",
              "\n",
              "        async function convertToInteractive(key) {\n",
              "          const element = document.querySelector('#df-7fa8c057-2013-42c7-ae51-3cfb790d94a2');\n",
              "          const dataTable =\n",
              "            await google.colab.kernel.invokeFunction('convertToInteractive',\n",
              "                                                     [key], {});\n",
              "          if (!dataTable) return;\n",
              "\n",
              "          const docLinkHtml = 'Like what you see? Visit the ' +\n",
              "            '<a target=\"_blank\" href=https://colab.research.google.com/notebooks/data_table.ipynb>data table notebook</a>'\n",
              "            + ' to learn more about interactive tables.';\n",
              "          element.innerHTML = '';\n",
              "          dataTable['output_type'] = 'display_data';\n",
              "          await google.colab.output.renderOutput(dataTable, element);\n",
              "          const docLink = document.createElement('div');\n",
              "          docLink.innerHTML = docLinkHtml;\n",
              "          element.appendChild(docLink);\n",
              "        }\n",
              "      </script>\n",
              "    </div>\n",
              "  </div>\n",
              "  "
            ]
          },
          "metadata": {},
          "execution_count": 4
        }
      ]
    },
    {
      "cell_type": "code",
      "source": [
        "# check for duplicates and missing values\n",
        "print(f'Dataset has {df.duplicated().sum()} duplicated rows!')\n",
        "print('\\n')\n",
        "df.info()"
      ],
      "metadata": {
        "colab": {
          "base_uri": "https://localhost:8080/"
        },
        "id": "dstZlVZUCkNB",
        "outputId": "01d16edc-43a1-4e3d-8004-1f5f7c8801ed"
      },
      "execution_count": 5,
      "outputs": [
        {
          "output_type": "stream",
          "name": "stdout",
          "text": [
            "Dataset has 0 duplicated rows!\n",
            "\n",
            "\n",
            "<class 'pandas.core.frame.DataFrame'>\n",
            "RangeIndex: 718 entries, 0 to 717\n",
            "Data columns (total 7 columns):\n",
            " #   Column    Non-Null Count  Dtype  \n",
            "---  ------    --------------  -----  \n",
            " 0   Date      718 non-null    object \n",
            " 1   Open      718 non-null    float64\n",
            " 2   High      718 non-null    float64\n",
            " 3   Low       718 non-null    float64\n",
            " 4   Close     718 non-null    float64\n",
            " 5   Volume    718 non-null    int64  \n",
            " 6   Currency  718 non-null    object \n",
            "dtypes: float64(4), int64(1), object(2)\n",
            "memory usage: 39.4+ KB\n"
          ]
        }
      ]
    },
    {
      "cell_type": "markdown",
      "source": [
        "This dataset does not have any duplicated rows and no missing values and seems ready for EDA."
      ],
      "metadata": {
        "id": "jNObc282C3gA"
      }
    },
    {
      "cell_type": "code",
      "source": [
        "# change date column to datetime\n",
        "df['Date'] = pd.to_datetime(df['Date'])\n",
        "# drop unecessary columns like currency \n",
        "df.drop(columns = 'Currency', inplace = True)\n",
        "df.head()"
      ],
      "metadata": {
        "colab": {
          "base_uri": "https://localhost:8080/",
          "height": 206
        },
        "id": "VI0HI4K7DMAn",
        "outputId": "a4343f1b-d987-44f9-ff02-65089641bbfe"
      },
      "execution_count": 6,
      "outputs": [
        {
          "output_type": "execute_result",
          "data": {
            "text/plain": [
              "        Date    Open    High     Low   Close   Volume\n",
              "0 2020-05-22 0.82595 0.97836 0.79553 0.83266  2019357\n",
              "1 2020-05-23 0.83277 2.51691 0.83277 2.49621  3645282\n",
              "2 2020-05-24 2.43167 3.91659 1.47054 1.81345  3305900\n",
              "3 2020-05-25 1.80970 1.93593 1.42681 1.43638  2211306\n",
              "4 2020-05-26 1.43650 1.94548 1.42443 1.52262  2323976"
            ],
            "text/html": [
              "\n",
              "  <div id=\"df-6696e714-7226-4012-9943-d36ebd4c5490\">\n",
              "    <div class=\"colab-df-container\">\n",
              "      <div>\n",
              "<style scoped>\n",
              "    .dataframe tbody tr th:only-of-type {\n",
              "        vertical-align: middle;\n",
              "    }\n",
              "\n",
              "    .dataframe tbody tr th {\n",
              "        vertical-align: top;\n",
              "    }\n",
              "\n",
              "    .dataframe thead th {\n",
              "        text-align: right;\n",
              "    }\n",
              "</style>\n",
              "<table border=\"1\" class=\"dataframe\">\n",
              "  <thead>\n",
              "    <tr style=\"text-align: right;\">\n",
              "      <th></th>\n",
              "      <th>Date</th>\n",
              "      <th>Open</th>\n",
              "      <th>High</th>\n",
              "      <th>Low</th>\n",
              "      <th>Close</th>\n",
              "      <th>Volume</th>\n",
              "    </tr>\n",
              "  </thead>\n",
              "  <tbody>\n",
              "    <tr>\n",
              "      <th>0</th>\n",
              "      <td>2020-05-22</td>\n",
              "      <td>0.82595</td>\n",
              "      <td>0.97836</td>\n",
              "      <td>0.79553</td>\n",
              "      <td>0.83266</td>\n",
              "      <td>2019357</td>\n",
              "    </tr>\n",
              "    <tr>\n",
              "      <th>1</th>\n",
              "      <td>2020-05-23</td>\n",
              "      <td>0.83277</td>\n",
              "      <td>2.51691</td>\n",
              "      <td>0.83277</td>\n",
              "      <td>2.49621</td>\n",
              "      <td>3645282</td>\n",
              "    </tr>\n",
              "    <tr>\n",
              "      <th>2</th>\n",
              "      <td>2020-05-24</td>\n",
              "      <td>2.43167</td>\n",
              "      <td>3.91659</td>\n",
              "      <td>1.47054</td>\n",
              "      <td>1.81345</td>\n",
              "      <td>3305900</td>\n",
              "    </tr>\n",
              "    <tr>\n",
              "      <th>3</th>\n",
              "      <td>2020-05-25</td>\n",
              "      <td>1.80970</td>\n",
              "      <td>1.93593</td>\n",
              "      <td>1.42681</td>\n",
              "      <td>1.43638</td>\n",
              "      <td>2211306</td>\n",
              "    </tr>\n",
              "    <tr>\n",
              "      <th>4</th>\n",
              "      <td>2020-05-26</td>\n",
              "      <td>1.43650</td>\n",
              "      <td>1.94548</td>\n",
              "      <td>1.42443</td>\n",
              "      <td>1.52262</td>\n",
              "      <td>2323976</td>\n",
              "    </tr>\n",
              "  </tbody>\n",
              "</table>\n",
              "</div>\n",
              "      <button class=\"colab-df-convert\" onclick=\"convertToInteractive('df-6696e714-7226-4012-9943-d36ebd4c5490')\"\n",
              "              title=\"Convert this dataframe to an interactive table.\"\n",
              "              style=\"display:none;\">\n",
              "        \n",
              "  <svg xmlns=\"http://www.w3.org/2000/svg\" height=\"24px\"viewBox=\"0 0 24 24\"\n",
              "       width=\"24px\">\n",
              "    <path d=\"M0 0h24v24H0V0z\" fill=\"none\"/>\n",
              "    <path d=\"M18.56 5.44l.94 2.06.94-2.06 2.06-.94-2.06-.94-.94-2.06-.94 2.06-2.06.94zm-11 1L8.5 8.5l.94-2.06 2.06-.94-2.06-.94L8.5 2.5l-.94 2.06-2.06.94zm10 10l.94 2.06.94-2.06 2.06-.94-2.06-.94-.94-2.06-.94 2.06-2.06.94z\"/><path d=\"M17.41 7.96l-1.37-1.37c-.4-.4-.92-.59-1.43-.59-.52 0-1.04.2-1.43.59L10.3 9.45l-7.72 7.72c-.78.78-.78 2.05 0 2.83L4 21.41c.39.39.9.59 1.41.59.51 0 1.02-.2 1.41-.59l7.78-7.78 2.81-2.81c.8-.78.8-2.07 0-2.86zM5.41 20L4 18.59l7.72-7.72 1.47 1.35L5.41 20z\"/>\n",
              "  </svg>\n",
              "      </button>\n",
              "      \n",
              "  <style>\n",
              "    .colab-df-container {\n",
              "      display:flex;\n",
              "      flex-wrap:wrap;\n",
              "      gap: 12px;\n",
              "    }\n",
              "\n",
              "    .colab-df-convert {\n",
              "      background-color: #E8F0FE;\n",
              "      border: none;\n",
              "      border-radius: 50%;\n",
              "      cursor: pointer;\n",
              "      display: none;\n",
              "      fill: #1967D2;\n",
              "      height: 32px;\n",
              "      padding: 0 0 0 0;\n",
              "      width: 32px;\n",
              "    }\n",
              "\n",
              "    .colab-df-convert:hover {\n",
              "      background-color: #E2EBFA;\n",
              "      box-shadow: 0px 1px 2px rgba(60, 64, 67, 0.3), 0px 1px 3px 1px rgba(60, 64, 67, 0.15);\n",
              "      fill: #174EA6;\n",
              "    }\n",
              "\n",
              "    [theme=dark] .colab-df-convert {\n",
              "      background-color: #3B4455;\n",
              "      fill: #D2E3FC;\n",
              "    }\n",
              "\n",
              "    [theme=dark] .colab-df-convert:hover {\n",
              "      background-color: #434B5C;\n",
              "      box-shadow: 0px 1px 3px 1px rgba(0, 0, 0, 0.15);\n",
              "      filter: drop-shadow(0px 1px 2px rgba(0, 0, 0, 0.3));\n",
              "      fill: #FFFFFF;\n",
              "    }\n",
              "  </style>\n",
              "\n",
              "      <script>\n",
              "        const buttonEl =\n",
              "          document.querySelector('#df-6696e714-7226-4012-9943-d36ebd4c5490 button.colab-df-convert');\n",
              "        buttonEl.style.display =\n",
              "          google.colab.kernel.accessAllowed ? 'block' : 'none';\n",
              "\n",
              "        async function convertToInteractive(key) {\n",
              "          const element = document.querySelector('#df-6696e714-7226-4012-9943-d36ebd4c5490');\n",
              "          const dataTable =\n",
              "            await google.colab.kernel.invokeFunction('convertToInteractive',\n",
              "                                                     [key], {});\n",
              "          if (!dataTable) return;\n",
              "\n",
              "          const docLinkHtml = 'Like what you see? Visit the ' +\n",
              "            '<a target=\"_blank\" href=https://colab.research.google.com/notebooks/data_table.ipynb>data table notebook</a>'\n",
              "            + ' to learn more about interactive tables.';\n",
              "          element.innerHTML = '';\n",
              "          dataTable['output_type'] = 'display_data';\n",
              "          await google.colab.output.renderOutput(dataTable, element);\n",
              "          const docLink = document.createElement('div');\n",
              "          docLink.innerHTML = docLinkHtml;\n",
              "          element.appendChild(docLink);\n",
              "        }\n",
              "      </script>\n",
              "    </div>\n",
              "  </div>\n",
              "  "
            ]
          },
          "metadata": {},
          "execution_count": 6
        }
      ]
    },
    {
      "cell_type": "markdown",
      "source": [
        "We droped Currency column as it is all USD and will not affect our model in any way. "
      ],
      "metadata": {
        "id": "BTX1iXuuFpS2"
      }
    },
    {
      "cell_type": "code",
      "source": [
        "# check statistical description\n",
        "df.describe()"
      ],
      "metadata": {
        "colab": {
          "base_uri": "https://localhost:8080/",
          "height": 300
        },
        "id": "DTu9jMFUM0S8",
        "outputId": "e0c78430-0a60-4d62-8e70-f7c3dc06d08e"
      },
      "execution_count": 7,
      "outputs": [
        {
          "output_type": "execute_result",
          "data": {
            "text/plain": [
              "           Open      High       Low     Close           Volume\n",
              "count 718.00000 718.00000 718.00000 718.00000        718.00000\n",
              "mean    3.34675   3.57075   3.17913   3.34850   58969239.14345\n",
              "std     1.43254   1.55643   1.34598   1.43046  107523272.38478\n",
              "min     0.82595   0.97836   0.79553   0.83266     108462.00000\n",
              "25%     2.13147   2.25314   2.03205   2.13016    4256353.50000\n",
              "50%     3.07087   3.20427   2.91980   3.06928   29927592.00000\n",
              "75%     4.37114   4.69106   4.14329   4.36665   71380718.75000\n",
              "max     7.61677  10.65836   7.06170   7.63800 1385377430.00000"
            ],
            "text/html": [
              "\n",
              "  <div id=\"df-ff02c267-13d5-454d-83bb-8bedad8c20c5\">\n",
              "    <div class=\"colab-df-container\">\n",
              "      <div>\n",
              "<style scoped>\n",
              "    .dataframe tbody tr th:only-of-type {\n",
              "        vertical-align: middle;\n",
              "    }\n",
              "\n",
              "    .dataframe tbody tr th {\n",
              "        vertical-align: top;\n",
              "    }\n",
              "\n",
              "    .dataframe thead th {\n",
              "        text-align: right;\n",
              "    }\n",
              "</style>\n",
              "<table border=\"1\" class=\"dataframe\">\n",
              "  <thead>\n",
              "    <tr style=\"text-align: right;\">\n",
              "      <th></th>\n",
              "      <th>Open</th>\n",
              "      <th>High</th>\n",
              "      <th>Low</th>\n",
              "      <th>Close</th>\n",
              "      <th>Volume</th>\n",
              "    </tr>\n",
              "  </thead>\n",
              "  <tbody>\n",
              "    <tr>\n",
              "      <th>count</th>\n",
              "      <td>718.00000</td>\n",
              "      <td>718.00000</td>\n",
              "      <td>718.00000</td>\n",
              "      <td>718.00000</td>\n",
              "      <td>718.00000</td>\n",
              "    </tr>\n",
              "    <tr>\n",
              "      <th>mean</th>\n",
              "      <td>3.34675</td>\n",
              "      <td>3.57075</td>\n",
              "      <td>3.17913</td>\n",
              "      <td>3.34850</td>\n",
              "      <td>58969239.14345</td>\n",
              "    </tr>\n",
              "    <tr>\n",
              "      <th>std</th>\n",
              "      <td>1.43254</td>\n",
              "      <td>1.55643</td>\n",
              "      <td>1.34598</td>\n",
              "      <td>1.43046</td>\n",
              "      <td>107523272.38478</td>\n",
              "    </tr>\n",
              "    <tr>\n",
              "      <th>min</th>\n",
              "      <td>0.82595</td>\n",
              "      <td>0.97836</td>\n",
              "      <td>0.79553</td>\n",
              "      <td>0.83266</td>\n",
              "      <td>108462.00000</td>\n",
              "    </tr>\n",
              "    <tr>\n",
              "      <th>25%</th>\n",
              "      <td>2.13147</td>\n",
              "      <td>2.25314</td>\n",
              "      <td>2.03205</td>\n",
              "      <td>2.13016</td>\n",
              "      <td>4256353.50000</td>\n",
              "    </tr>\n",
              "    <tr>\n",
              "      <th>50%</th>\n",
              "      <td>3.07087</td>\n",
              "      <td>3.20427</td>\n",
              "      <td>2.91980</td>\n",
              "      <td>3.06928</td>\n",
              "      <td>29927592.00000</td>\n",
              "    </tr>\n",
              "    <tr>\n",
              "      <th>75%</th>\n",
              "      <td>4.37114</td>\n",
              "      <td>4.69106</td>\n",
              "      <td>4.14329</td>\n",
              "      <td>4.36665</td>\n",
              "      <td>71380718.75000</td>\n",
              "    </tr>\n",
              "    <tr>\n",
              "      <th>max</th>\n",
              "      <td>7.61677</td>\n",
              "      <td>10.65836</td>\n",
              "      <td>7.06170</td>\n",
              "      <td>7.63800</td>\n",
              "      <td>1385377430.00000</td>\n",
              "    </tr>\n",
              "  </tbody>\n",
              "</table>\n",
              "</div>\n",
              "      <button class=\"colab-df-convert\" onclick=\"convertToInteractive('df-ff02c267-13d5-454d-83bb-8bedad8c20c5')\"\n",
              "              title=\"Convert this dataframe to an interactive table.\"\n",
              "              style=\"display:none;\">\n",
              "        \n",
              "  <svg xmlns=\"http://www.w3.org/2000/svg\" height=\"24px\"viewBox=\"0 0 24 24\"\n",
              "       width=\"24px\">\n",
              "    <path d=\"M0 0h24v24H0V0z\" fill=\"none\"/>\n",
              "    <path d=\"M18.56 5.44l.94 2.06.94-2.06 2.06-.94-2.06-.94-.94-2.06-.94 2.06-2.06.94zm-11 1L8.5 8.5l.94-2.06 2.06-.94-2.06-.94L8.5 2.5l-.94 2.06-2.06.94zm10 10l.94 2.06.94-2.06 2.06-.94-2.06-.94-.94-2.06-.94 2.06-2.06.94z\"/><path d=\"M17.41 7.96l-1.37-1.37c-.4-.4-.92-.59-1.43-.59-.52 0-1.04.2-1.43.59L10.3 9.45l-7.72 7.72c-.78.78-.78 2.05 0 2.83L4 21.41c.39.39.9.59 1.41.59.51 0 1.02-.2 1.41-.59l7.78-7.78 2.81-2.81c.8-.78.8-2.07 0-2.86zM5.41 20L4 18.59l7.72-7.72 1.47 1.35L5.41 20z\"/>\n",
              "  </svg>\n",
              "      </button>\n",
              "      \n",
              "  <style>\n",
              "    .colab-df-container {\n",
              "      display:flex;\n",
              "      flex-wrap:wrap;\n",
              "      gap: 12px;\n",
              "    }\n",
              "\n",
              "    .colab-df-convert {\n",
              "      background-color: #E8F0FE;\n",
              "      border: none;\n",
              "      border-radius: 50%;\n",
              "      cursor: pointer;\n",
              "      display: none;\n",
              "      fill: #1967D2;\n",
              "      height: 32px;\n",
              "      padding: 0 0 0 0;\n",
              "      width: 32px;\n",
              "    }\n",
              "\n",
              "    .colab-df-convert:hover {\n",
              "      background-color: #E2EBFA;\n",
              "      box-shadow: 0px 1px 2px rgba(60, 64, 67, 0.3), 0px 1px 3px 1px rgba(60, 64, 67, 0.15);\n",
              "      fill: #174EA6;\n",
              "    }\n",
              "\n",
              "    [theme=dark] .colab-df-convert {\n",
              "      background-color: #3B4455;\n",
              "      fill: #D2E3FC;\n",
              "    }\n",
              "\n",
              "    [theme=dark] .colab-df-convert:hover {\n",
              "      background-color: #434B5C;\n",
              "      box-shadow: 0px 1px 3px 1px rgba(0, 0, 0, 0.15);\n",
              "      filter: drop-shadow(0px 1px 2px rgba(0, 0, 0, 0.3));\n",
              "      fill: #FFFFFF;\n",
              "    }\n",
              "  </style>\n",
              "\n",
              "      <script>\n",
              "        const buttonEl =\n",
              "          document.querySelector('#df-ff02c267-13d5-454d-83bb-8bedad8c20c5 button.colab-df-convert');\n",
              "        buttonEl.style.display =\n",
              "          google.colab.kernel.accessAllowed ? 'block' : 'none';\n",
              "\n",
              "        async function convertToInteractive(key) {\n",
              "          const element = document.querySelector('#df-ff02c267-13d5-454d-83bb-8bedad8c20c5');\n",
              "          const dataTable =\n",
              "            await google.colab.kernel.invokeFunction('convertToInteractive',\n",
              "                                                     [key], {});\n",
              "          if (!dataTable) return;\n",
              "\n",
              "          const docLinkHtml = 'Like what you see? Visit the ' +\n",
              "            '<a target=\"_blank\" href=https://colab.research.google.com/notebooks/data_table.ipynb>data table notebook</a>'\n",
              "            + ' to learn more about interactive tables.';\n",
              "          element.innerHTML = '';\n",
              "          dataTable['output_type'] = 'display_data';\n",
              "          await google.colab.output.renderOutput(dataTable, element);\n",
              "          const docLink = document.createElement('div');\n",
              "          docLink.innerHTML = docLinkHtml;\n",
              "          element.appendChild(docLink);\n",
              "        }\n",
              "      </script>\n",
              "    </div>\n",
              "  </div>\n",
              "  "
            ]
          },
          "metadata": {},
          "execution_count": 7
        }
      ]
    },
    {
      "cell_type": "markdown",
      "source": [
        "Mean Price(Close) of Celo is at 3.34 USD and the Volumne "
      ],
      "metadata": {
        "id": "CxRegwvTM5Ax"
      }
    },
    {
      "cell_type": "markdown",
      "source": [
        "## Exploratory Data Analysis\n",
        "\n",
        "We will be performing some initial data visualization in this section."
      ],
      "metadata": {
        "id": "CfhwHjmvuLkL"
      }
    },
    {
      "cell_type": "code",
      "source": [
        "# line plot of crypto price over time\n",
        "sns.set_context('notebook', font_scale = 1.25)\n",
        "fig, ax = plt.subplots(figsize = (10, 5))\n",
        "ax = sns.lineplot(x = df['Date'], y = df['Close'])\n",
        "ax.set(title = 'Celo Price($) Over Time', ylabel = 'Price ($)')\n",
        "plt.setp(ax.get_xticklabels(), rotation=45, ha = 'right')\n",
        "plt.show()"
      ],
      "metadata": {
        "colab": {
          "base_uri": "https://localhost:8080/",
          "height": 400
        },
        "id": "ZU9CtW1zDnJb",
        "outputId": "8476a955-9c92-4a2e-ad00-b5f522e53550"
      },
      "execution_count": 8,
      "outputs": [
        {
          "output_type": "display_data",
          "data": {
            "text/plain": [
              "<Figure size 720x360 with 1 Axes>"
            ],
            "image/png": "[encoded data removed]"
          },
          "metadata": {
            "needs_background": "light"
          }
        }
      ]
    },
    {
      "cell_type": "markdown",
      "source": [
        "As seen in the visualization above, we can see that Celo Closing Price (applies to all crypto price) is very volatile and could be any price on a given time."
      ],
      "metadata": {
        "id": "Ppt4H8eUEOaq"
      }
    },
    {
      "cell_type": "markdown",
      "source": [
        "## Visualize as Crypto Trading via Plotly\n",
        "\n",
        "* Code for this visualization is taken from this [resource](https://pythoninoffice.com/draw-stock-chart-with-python/)."
      ],
      "metadata": {
        "id": "N6XBthZkDzdI"
      }
    },
    {
      "cell_type": "code",
      "source": [
        "# adding a column indicator \n",
        "df['diff'] = df['Close'] - df['Open']\n",
        "df.loc[df['diff'] >= 0, 'color'] = 'green'\n",
        "df.loc[df['diff'] < 0, 'color'] = 'red'"
      ],
      "metadata": {
        "id": "gmv7ig-WVBdx"
      },
      "execution_count": 9,
      "outputs": []
    },
    {
      "cell_type": "code",
      "source": [
        "# plot trading view via plotly\n",
        "fig = make_subplots(specs=[[{\"secondary_y\": True}]])\n",
        "# fig.add_trace(go.Scatter(x=df['Date'], y = df['Close'], name = 'Price'), secondary_y = False)\n",
        "fig.add_trace(go.Candlestick(x = df['Date'], \n",
        "                             open = df['Open'], \n",
        "                             high = df['High'], \n",
        "                             low = df['Low'],\n",
        "                             close = df['Close'],\n",
        "                             name = 'Price'\n",
        "                             ))\n",
        "fig.add_trace(go.Scatter(x = df['Date'], \n",
        "                         y = df['Close'].rolling(window=20).mean(), \n",
        "                         marker_color = 'blue', \n",
        "                         name = '20 Day MA'\n",
        "                        ))\n",
        "fig.add_trace(go.Bar(x=df['Date'], \n",
        "                     y = df['Volume'], \n",
        "                     name = 'Volume',\n",
        "                     marker = {'color' : df['color']}\n",
        "                     ), \n",
        "              secondary_y = True\n",
        "              )\n",
        "fig.update_yaxes(range = [0, 7000000000], secondary_y = True)\n",
        "fig.update_yaxes(visible=False, secondary_y = True)\n",
        "fig.update_layout(title = {'text': 'Celo Trading View', 'x' : 0.5})\n",
        "# uncomment the line below to disable the range slider\n",
        "fig.update_layout(xaxis_rangeslider_visible = False)\n",
        "fig.show(\"png\")"
      ],
      "metadata": {
        "colab": {
          "base_uri": "https://localhost:8080/",
          "height": 517
        },
        "id": "TzPd38dKQlH2",
        "outputId": "f60b7ef0-26a2-42bb-beb5-c86c2d585d5c"
      },
      "execution_count": 11,
      "outputs": [
        {
          "output_type": "display_data",
          "data": {
            "image/png": "[encoded data removed]"
          },
          "metadata": {}
        }
      ]
    },
    {
      "cell_type": "markdown",
      "source": [
        "*The visual above is a trading view of the Celo Price (Low, High and Close) daily, and the Volume by day (with green and red indicators). This also includes a 20 Day Moving Average (blue) one indicator that help traders decide whether to buy or sell or hold their assets.*"
      ],
      "metadata": {
        "id": "GYiPdw7xGuoJ"
      }
    },
    {
      "cell_type": "code",
      "source": [
        "# save the graph above to html \n",
        "fig.write_html(r'/content/drive/MyDrive/CodingDojo_DS/dataset_files/graph.html')"
      ],
      "metadata": {
        "id": "0URSYr7MYrt6"
      },
      "execution_count": 10,
      "outputs": []
    },
    {
      "cell_type": "code",
      "source": [
        "# heatmap plot of dimension correlation\n",
        "corr = df.corr()\n",
        "fig, ax = plt.subplots(figsize = (10,8))\n",
        "sns.heatmap(corr, cmap = 'Greens', annot = True)\n",
        "ax.set(title = 'Feature Correlation')\n",
        "plt.show()"
      ],
      "metadata": {
        "colab": {
          "base_uri": "https://localhost:8080/",
          "height": 507
        },
        "id": "VTeKmYd9wK6A",
        "outputId": "a6b568ec-b56b-4934-cfb0-1fa1281ca5b4"
      },
      "execution_count": 11,
      "outputs": [
        {
          "output_type": "display_data",
          "data": {
            "text/plain": [
              "<Figure size 720x576 with 2 Axes>"
            ],
            "image/png": "[encoded data removed]"
          },
          "metadata": {
            "needs_background": "light"
          }
        }
      ]
    },
    {
      "cell_type": "markdown",
      "source": [
        "Our data shows that prices (Open, Low, High and Closing) are greatly correlated and is also somewhat correlated to our Volume. "
      ],
      "metadata": {
        "id": "TO-b6JGK3jr1"
      }
    },
    {
      "cell_type": "markdown",
      "source": [
        "## Applying Feature Engineering on Datetime\n",
        "\n",
        "We will be adding the following dimensions from the datetime feature\n",
        "- year\n",
        "- month (name)\n",
        "- day of month\n",
        "- day of week (name)"
      ],
      "metadata": {
        "id": "wZ_SuVPYRFBy"
      }
    },
    {
      "cell_type": "code",
      "source": [
        "# feature engineering for datetime dimension\n",
        "df['year'] = df['Date'].dt.year.astype(str)\n",
        "df['month (name)'] = df['Date'].dt.month_name()\n",
        "df['day of month'] = df['Date'].dt.day.astype(str)\n",
        "df['day of week (name)'] = df['Date'].dt.day_name()\n",
        "df.drop(columns = 'Date', inplace = True)\n",
        "df.info()"
      ],
      "metadata": {
        "id": "opTpAi4WUARr",
        "colab": {
          "base_uri": "https://localhost:8080/"
        },
        "outputId": "433818f5-c52c-44cf-b009-97ee3f17e3ab"
      },
      "execution_count": 12,
      "outputs": [
        {
          "output_type": "stream",
          "name": "stdout",
          "text": [
            "<class 'pandas.core.frame.DataFrame'>\n",
            "RangeIndex: 718 entries, 0 to 717\n",
            "Data columns (total 11 columns):\n",
            " #   Column              Non-Null Count  Dtype  \n",
            "---  ------              --------------  -----  \n",
            " 0   Open                718 non-null    float64\n",
            " 1   High                718 non-null    float64\n",
            " 2   Low                 718 non-null    float64\n",
            " 3   Close               718 non-null    float64\n",
            " 4   Volume              718 non-null    int64  \n",
            " 5   diff                718 non-null    float64\n",
            " 6   color               718 non-null    object \n",
            " 7   year                718 non-null    object \n",
            " 8   month (name)        718 non-null    object \n",
            " 9   day of month        718 non-null    object \n",
            " 10  day of week (name)  718 non-null    object \n",
            "dtypes: float64(5), int64(1), object(5)\n",
            "memory usage: 61.8+ KB\n"
          ]
        }
      ]
    },
    {
      "cell_type": "code",
      "source": [
        ""
      ],
      "metadata": {
        "id": "YzqCtG1fZqBt"
      },
      "execution_count": 12,
      "outputs": []
    }
  ]
}